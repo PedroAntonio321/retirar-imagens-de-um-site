{
  "nbformat": 4,
  "nbformat_minor": 0,
  "metadata": {
    "colab": {
      "provenance": [],
      "authorship_tag": "ABX9TyN14aUHTbGPj2MThzrXwzvt",
      "include_colab_link": true
    },
    "kernelspec": {
      "name": "python3",
      "display_name": "Python 3"
    },
    "language_info": {
      "name": "python"
    }
  },
  "cells": [
    {
      "cell_type": "markdown",
      "metadata": {
        "id": "view-in-github",
        "colab_type": "text"
      },
      "source": [
        "<a href=\"https://colab.research.google.com/github/PedroAntonio321/retirar-imagens-de-uma-url/blob/main/Retirar_imagens_de_um_site.ipynb\" target=\"_parent\"><img src=\"https://colab.research.google.com/assets/colab-badge.svg\" alt=\"Open In Colab\"/></a>"
      ]
    },
    {
      "cell_type": "markdown",
      "source": [
        "#Importando a biblioteca BeautifulSoup e requests"
      ],
      "metadata": {
        "id": "6YQgDwfS3fIQ"
      }
    },
    {
      "cell_type": "code",
      "source": [
        "import bs4\n",
        "from bs4 import BeautifulSoup\n",
        "import requests"
      ],
      "metadata": {
        "id": "Eu2lDd0q3hUZ"
      },
      "execution_count": 1,
      "outputs": []
    },
    {
      "cell_type": "code",
      "source": [
        "site = \"https://url-desejada.com\"\n",
        "response = requests.get(site)"
      ],
      "metadata": {
        "id": "RVAQuKoFBOya"
      },
      "execution_count": 2,
      "outputs": []
    },
    {
      "cell_type": "markdown",
      "source": [
        "#Usando a biblioteca BeautifulSoup para analisar o HTML"
      ],
      "metadata": {
        "id": "VF0ieZ215kga"
      }
    },
    {
      "cell_type": "code",
      "source": [
        "html = BeautifulSoup(response.text, 'html.parser')"
      ],
      "metadata": {
        "id": "pVRYVtz85lyp"
      },
      "execution_count": 3,
      "outputs": []
    },
    {
      "cell_type": "markdown",
      "source": [
        "#Extraindo imagens da página"
      ],
      "metadata": {
        "id": "RXwhW3Xa87aR"
      }
    },
    {
      "cell_type": "code",
      "source": [
        "url_das_imagens = []\n",
        "for imagem in html.find_all('img'):\n",
        "  if 'src' in imagem.attrs:\n",
        "    url_das_imagens.append(imagem['src'])\n",
        "urls = [f\"{site}{nova_url}\" for nova_url in url_das_imagens]\n",
        "for link in urls:\n",
        "  print(link)"
      ],
      "metadata": {
        "id": "ySI3u8kN89Yu"
      },
      "execution_count": null,
      "outputs": []
    }
  ]
}